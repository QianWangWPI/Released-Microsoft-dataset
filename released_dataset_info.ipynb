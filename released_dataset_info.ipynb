{
 "cells": [
  {
   "cell_type": "code",
   "execution_count": 6,
   "id": "cb1a1194",
   "metadata": {
    "executionInfo": {
     "elapsed": 587,
     "status": "ok",
     "timestamp": 1669746816650,
     "user": {
      "displayName": "Calvin Rambacher",
      "userId": "01025576531840526172"
     },
     "user_tz": 300
    },
    "id": "cb1a1194"
   },
   "outputs": [],
   "source": [
    "import pandas as pd\n",
    "import os\n",
    "import re\n",
    "import numpy as np\n",
    "import json\n",
    "import tqdm\n",
    "import warnings\n",
    "warnings.filterwarnings(\"ignore\")"
   ]
  },
  {
   "cell_type": "code",
   "execution_count": 7,
   "id": "3c5a0c46",
   "metadata": {
    "colab": {
     "base_uri": "https://localhost:8080/",
     "height": 239
    },
    "executionInfo": {
     "elapsed": 122,
     "status": "error",
     "timestamp": 1669747151576,
     "user": {
      "displayName": "Calvin Rambacher",
      "userId": "01025576531840526172"
     },
     "user_tz": 300
    },
    "id": "3c5a0c46",
    "outputId": "7095d5c2-23f0-485a-e833-41e520919068"
   },
   "outputs": [],
   "source": [
    "train_file_path = os.path.join(os.getcwd(), 'train.txt')\n",
    "val_file_path = os.path.join(os.getcwd(), 'val.txt')\n",
    "test_file_path = os.path.join(os.getcwd(), 'test.txt')\n",
    "\n",
    "with open(train_file_path, encoding='utf-8') as f:\n",
    "    train_json_data = json.load(f)\n",
    "with open(val_file_path, encoding='utf-8') as f:\n",
    "    val_json_data = json.load(f)\n",
    "with open(test_file_path, encoding='utf-8') as f:\n",
    "    test_json_data = json.load(f)"
   ]
  },
  {
   "cell_type": "code",
   "execution_count": 8,
   "id": "4dfaee78",
   "metadata": {
    "id": "4dfaee78",
    "outputId": "9b506a86-f1b3-4f2f-eca5-53deedb7a247"
   },
   "outputs": [
    {
     "name": "stdout",
     "output_type": "stream",
     "text": [
      "Total length of the dataset: \n",
      "Train: 42000\n",
      "Validate: 9000\n",
      "Test: 9000\n"
     ]
    }
   ],
   "source": [
    "print('Total length of the dataset: ')\n",
    "print('Train: {}\\nValidate: {}\\nTest: {}'.format(len(train_json_data), len(val_json_data), len(test_json_data)))"
   ]
  },
  {
   "cell_type": "code",
   "execution_count": 9,
   "id": "9e346931",
   "metadata": {
    "id": "9e346931",
    "outputId": "a9fc1c5d-5038-4de5-f39d-46ae636647a1"
   },
   "outputs": [
    {
     "data": {
      "text/plain": [
       "{'publication_ID': 17396995,\n",
       " 'Citations': '17957262;21818356;24164861;21818356;24164861;28586396;28688377',\n",
       " 'pubDate': '2007 May 1',\n",
       " 'language': 'eng',\n",
       " 'title': 'Herpes simplex virus type 2 infection does not influence viral dynamics during early HIV 1 infection',\n",
       " 'journal': 'The Journal of infectious diseases',\n",
       " 'abstract': 'We sought to compare baseline and longitudinal plasma HIV-1 loads between herpes simplex virus type 2 (HSV-2)-seropositive and -seronegative individuals who are enrolled in a primary HIV-1 infection cohort in San Diego, California.',\n",
       " 'keywords': 'Adult;California;epidemiology;Cohort Studies;HIV Infections;blood;complications;epidemiology;virology;HIV-1;pathogenicity;Herpes Simplex;blood;complications;epidemiology;virology;Herpesvirus 2, Human;pathogenicity;Humans;Longitudinal Studies;Male;Prevalence;Retrospective Studies;Viral Load',\n",
       " 'authors': [{'name': 'Edward R Cachay',\n",
       "   'org': 'University of California, San Diego, La Jolla, CA 92103, USA. ecachay@ucsd.edu',\n",
       "   'id': '56335e9345cedb339a968f1e'},\n",
       "  {'name': 'Simon D W Frost', 'id': '5628adc145ce1e5965fdc0fa'},\n",
       "  {'name': 'Douglas D Richman', 'id': '5628adc145ce1e5965fdc0fd'},\n",
       "  {'name': 'Davey M Smith', 'id': '5628adc145ce1e5965fdc100'},\n",
       "  {'name': 'Susan J Little', 'id': '5628adc145ce1e5965fdc103'}],\n",
       " 'venue': \"{'name': 'The Journal of infectious diseases'}\",\n",
       " 'doi': '10.1086/513568'}"
      ]
     },
     "execution_count": 9,
     "metadata": {},
     "output_type": "execute_result"
    }
   ],
   "source": [
    "train_json_data[0]"
   ]
  },
  {
   "cell_type": "code",
   "execution_count": 10,
   "id": "9d1d01ed",
   "metadata": {
    "id": "9d1d01ed",
    "outputId": "0d0c2d9a-b974-4ccc-d225-b427ca60cda9"
   },
   "outputs": [
    {
     "data": {
      "text/plain": [
       "'Edward R Cachay'"
      ]
     },
     "execution_count": 10,
     "metadata": {},
     "output_type": "execute_result"
    }
   ],
   "source": [
    "train_json_data[0]['authors'][0]['name']"
   ]
  }
 ],
 "metadata": {
  "colab": {
   "provenance": []
  },
  "kernelspec": {
   "display_name": "Python 3 (ipykernel)",
   "language": "python",
   "name": "python3"
  },
  "language_info": {
   "codemirror_mode": {
    "name": "ipython",
    "version": 3
   },
   "file_extension": ".py",
   "mimetype": "text/x-python",
   "name": "python",
   "nbconvert_exporter": "python",
   "pygments_lexer": "ipython3",
   "version": "3.9.7"
  }
 },
 "nbformat": 4,
 "nbformat_minor": 5
}
